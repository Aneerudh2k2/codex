{
 "cells": [
  {
   "cell_type": "code",
   "execution_count": 4,
   "metadata": {},
   "outputs": [
    {
     "ename": "",
     "evalue": "",
     "output_type": "error",
     "traceback": [
      "\u001b[1;31mThe Kernel crashed while executing code in the current cell or a previous cell. \n",
      "\u001b[1;31mPlease review the code in the cell(s) to identify a possible cause of the failure. \n",
      "\u001b[1;31mClick <a href='https://aka.ms/vscodeJupyterKernelCrash'>here</a> for more info. \n",
      "\u001b[1;31mView Jupyter <a href='command:jupyter.viewOutput'>log</a> for further details."
     ]
    }
   ],
   "source": [
    "import polars as pl\n",
    "from pathlib import Path\n",
    "import json\n",
    "from crawler.serializers import NdjsonReader\n",
    "from crawler.types import PaperAnalysisRun\n",
    "\n",
    "# with NdjsonReader(\n",
    "#     Path(\"data/processed/cs_inlined_papers.jsonl\"), PaperAnalysisRun, validate=True\n",
    "# ) as f:\n",
    "with open(\"data/processed/cs_inlined_papers.jsonl\", \"r\") as f:\n",
    "      responses = [json.loads(line) for line in f]\n",
    "\n",
    "      examples = []\n",
    "\n",
    "      for r in responses:\n",
    "            # print(r)\n",
    "            examples.append(\n",
    "                  (\n",
    "                        r[\"paper_id\"],\n",
    "                        r[\"metadata\"],\n",
    "                        r[\"discipline\"],\n",
    "                        r[\"abstract\"],\n",
    "                        r[\"bib_entries\"],\n",
    "                        r[\"inlined_texts\"]\n",
    "                  )\n",
    "            )\n",
    "\n",
    "dataset = pl.DataFrame(examples, schema=[\"paper_id\", \"metadata\", \"discipline\", \"abstract\", \"bib_entries\", \"inlined_texts\"]).sort(\n",
    "    by=\"paper_id\"\n",
    ")\n",
    "\n",
    "dataset.write_parquet(\"data/processed/cs_inlined_papers.parquet\")\n"
   ]
  }
 ],
 "metadata": {
  "kernelspec": {
   "display_name": "fine_tune",
   "language": "python",
   "name": "python3"
  },
  "language_info": {
   "codemirror_mode": {
    "name": "ipython",
    "version": 3
   },
   "file_extension": ".py",
   "mimetype": "text/x-python",
   "name": "python",
   "nbconvert_exporter": "python",
   "pygments_lexer": "ipython3",
   "version": "3.11.0"
  }
 },
 "nbformat": 4,
 "nbformat_minor": 2
}
